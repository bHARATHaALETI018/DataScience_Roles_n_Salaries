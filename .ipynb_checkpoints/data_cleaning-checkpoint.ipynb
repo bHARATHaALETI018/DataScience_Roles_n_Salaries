{
 "cells": [
  {
   "cell_type": "code",
   "execution_count": 1,
   "id": "6281031d-a61a-4af5-abdc-477d7fd4f063",
   "metadata": {},
   "outputs": [],
   "source": [
    "import pandas as pd\n",
    "import matplotlib.pyplot as plt\n",
    "import numpy as np\n",
    "%matplotlib inline"
   ]
  },
  {
   "cell_type": "code",
   "execution_count": 2,
   "id": "19e9371c-2b26-40ac-9b4e-e3e92c6c4895",
   "metadata": {},
   "outputs": [
    {
     "data": {
      "text/html": [
       "<div>\n",
       "<style scoped>\n",
       "    .dataframe tbody tr th:only-of-type {\n",
       "        vertical-align: middle;\n",
       "    }\n",
       "\n",
       "    .dataframe tbody tr th {\n",
       "        vertical-align: top;\n",
       "    }\n",
       "\n",
       "    .dataframe thead th {\n",
       "        text-align: right;\n",
       "    }\n",
       "</style>\n",
       "<table border=\"1\" class=\"dataframe\">\n",
       "  <thead>\n",
       "    <tr style=\"text-align: right;\">\n",
       "      <th></th>\n",
       "      <th>Unnamed: 0</th>\n",
       "      <th>Job Title</th>\n",
       "      <th>Salary Estimate</th>\n",
       "      <th>Job Description</th>\n",
       "      <th>Rating</th>\n",
       "      <th>Company Name</th>\n",
       "      <th>Location</th>\n",
       "      <th>Headquarters</th>\n",
       "      <th>Size</th>\n",
       "      <th>Founded</th>\n",
       "      <th>Type of ownership</th>\n",
       "      <th>Industry</th>\n",
       "      <th>Sector</th>\n",
       "      <th>Revenue</th>\n",
       "      <th>Competitors</th>\n",
       "    </tr>\n",
       "  </thead>\n",
       "  <tbody>\n",
       "    <tr>\n",
       "      <th>0</th>\n",
       "      <td>0</td>\n",
       "      <td>Data Scientist</td>\n",
       "      <td>$53K-$91K (Glassdoor est.)</td>\n",
       "      <td>Data Scientist\\nLocation: Albuquerque, NM\\nEdu...</td>\n",
       "      <td>3.8</td>\n",
       "      <td>Tecolote Research\\n3.8</td>\n",
       "      <td>Albuquerque, NM</td>\n",
       "      <td>Goleta, CA</td>\n",
       "      <td>501 to 1000 employees</td>\n",
       "      <td>1973</td>\n",
       "      <td>Company - Private</td>\n",
       "      <td>Aerospace &amp; Defense</td>\n",
       "      <td>Aerospace &amp; Defense</td>\n",
       "      <td>$50 to $100 million (USD)</td>\n",
       "      <td>-1</td>\n",
       "    </tr>\n",
       "    <tr>\n",
       "      <th>1</th>\n",
       "      <td>1</td>\n",
       "      <td>Healthcare Data Scientist</td>\n",
       "      <td>$63K-$112K (Glassdoor est.)</td>\n",
       "      <td>What You Will Do:\\n\\nI. General Summary\\n\\nThe...</td>\n",
       "      <td>3.4</td>\n",
       "      <td>University of Maryland Medical System\\n3.4</td>\n",
       "      <td>Linthicum, MD</td>\n",
       "      <td>Baltimore, MD</td>\n",
       "      <td>10000+ employees</td>\n",
       "      <td>1984</td>\n",
       "      <td>Other Organization</td>\n",
       "      <td>Health Care Services &amp; Hospitals</td>\n",
       "      <td>Health Care</td>\n",
       "      <td>$2 to $5 billion (USD)</td>\n",
       "      <td>-1</td>\n",
       "    </tr>\n",
       "    <tr>\n",
       "      <th>2</th>\n",
       "      <td>2</td>\n",
       "      <td>Data Scientist</td>\n",
       "      <td>$80K-$90K (Glassdoor est.)</td>\n",
       "      <td>KnowBe4, Inc. is a high growth information sec...</td>\n",
       "      <td>4.8</td>\n",
       "      <td>KnowBe4\\n4.8</td>\n",
       "      <td>Clearwater, FL</td>\n",
       "      <td>Clearwater, FL</td>\n",
       "      <td>501 to 1000 employees</td>\n",
       "      <td>2010</td>\n",
       "      <td>Company - Private</td>\n",
       "      <td>Security Services</td>\n",
       "      <td>Business Services</td>\n",
       "      <td>$100 to $500 million (USD)</td>\n",
       "      <td>-1</td>\n",
       "    </tr>\n",
       "    <tr>\n",
       "      <th>3</th>\n",
       "      <td>3</td>\n",
       "      <td>Data Scientist</td>\n",
       "      <td>$56K-$97K (Glassdoor est.)</td>\n",
       "      <td>*Organization and Job ID**\\nJob ID: 310709\\n\\n...</td>\n",
       "      <td>3.8</td>\n",
       "      <td>PNNL\\n3.8</td>\n",
       "      <td>Richland, WA</td>\n",
       "      <td>Richland, WA</td>\n",
       "      <td>1001 to 5000 employees</td>\n",
       "      <td>1965</td>\n",
       "      <td>Government</td>\n",
       "      <td>Energy</td>\n",
       "      <td>Oil, Gas, Energy &amp; Utilities</td>\n",
       "      <td>$500 million to $1 billion (USD)</td>\n",
       "      <td>Oak Ridge National Laboratory, National Renewa...</td>\n",
       "    </tr>\n",
       "    <tr>\n",
       "      <th>4</th>\n",
       "      <td>4</td>\n",
       "      <td>Data Scientist</td>\n",
       "      <td>$86K-$143K (Glassdoor est.)</td>\n",
       "      <td>Data Scientist\\nAffinity Solutions / Marketing...</td>\n",
       "      <td>2.9</td>\n",
       "      <td>Affinity Solutions\\n2.9</td>\n",
       "      <td>New York, NY</td>\n",
       "      <td>New York, NY</td>\n",
       "      <td>51 to 200 employees</td>\n",
       "      <td>1998</td>\n",
       "      <td>Company - Private</td>\n",
       "      <td>Advertising &amp; Marketing</td>\n",
       "      <td>Business Services</td>\n",
       "      <td>Unknown / Non-Applicable</td>\n",
       "      <td>Commerce Signals, Cardlytics, Yodlee</td>\n",
       "    </tr>\n",
       "  </tbody>\n",
       "</table>\n",
       "</div>"
      ],
      "text/plain": [
       "   Unnamed: 0                  Job Title              Salary Estimate  \\\n",
       "0           0             Data Scientist   $53K-$91K (Glassdoor est.)   \n",
       "1           1  Healthcare Data Scientist  $63K-$112K (Glassdoor est.)   \n",
       "2           2             Data Scientist   $80K-$90K (Glassdoor est.)   \n",
       "3           3             Data Scientist   $56K-$97K (Glassdoor est.)   \n",
       "4           4             Data Scientist  $86K-$143K (Glassdoor est.)   \n",
       "\n",
       "                                     Job Description  Rating  \\\n",
       "0  Data Scientist\\nLocation: Albuquerque, NM\\nEdu...     3.8   \n",
       "1  What You Will Do:\\n\\nI. General Summary\\n\\nThe...     3.4   \n",
       "2  KnowBe4, Inc. is a high growth information sec...     4.8   \n",
       "3  *Organization and Job ID**\\nJob ID: 310709\\n\\n...     3.8   \n",
       "4  Data Scientist\\nAffinity Solutions / Marketing...     2.9   \n",
       "\n",
       "                                 Company Name         Location  \\\n",
       "0                      Tecolote Research\\n3.8  Albuquerque, NM   \n",
       "1  University of Maryland Medical System\\n3.4    Linthicum, MD   \n",
       "2                                KnowBe4\\n4.8   Clearwater, FL   \n",
       "3                                   PNNL\\n3.8     Richland, WA   \n",
       "4                     Affinity Solutions\\n2.9     New York, NY   \n",
       "\n",
       "     Headquarters                    Size  Founded   Type of ownership  \\\n",
       "0      Goleta, CA   501 to 1000 employees     1973   Company - Private   \n",
       "1   Baltimore, MD        10000+ employees     1984  Other Organization   \n",
       "2  Clearwater, FL   501 to 1000 employees     2010   Company - Private   \n",
       "3    Richland, WA  1001 to 5000 employees     1965          Government   \n",
       "4    New York, NY     51 to 200 employees     1998   Company - Private   \n",
       "\n",
       "                           Industry                        Sector  \\\n",
       "0               Aerospace & Defense           Aerospace & Defense   \n",
       "1  Health Care Services & Hospitals                   Health Care   \n",
       "2                 Security Services             Business Services   \n",
       "3                            Energy  Oil, Gas, Energy & Utilities   \n",
       "4           Advertising & Marketing             Business Services   \n",
       "\n",
       "                            Revenue  \\\n",
       "0         $50 to $100 million (USD)   \n",
       "1            $2 to $5 billion (USD)   \n",
       "2        $100 to $500 million (USD)   \n",
       "3  $500 million to $1 billion (USD)   \n",
       "4          Unknown / Non-Applicable   \n",
       "\n",
       "                                         Competitors  \n",
       "0                                                 -1  \n",
       "1                                                 -1  \n",
       "2                                                 -1  \n",
       "3  Oak Ridge National Laboratory, National Renewa...  \n",
       "4               Commerce Signals, Cardlytics, Yodlee  "
      ]
     },
     "execution_count": 2,
     "metadata": {},
     "output_type": "execute_result"
    }
   ],
   "source": [
    "df = pd.read_csv(\"glassdoor_jobs.csv\")\n",
    "df.head()"
   ]
  },
  {
   "cell_type": "code",
   "execution_count": 3,
   "id": "77d24269",
   "metadata": {
    "scrolled": true
   },
   "outputs": [
    {
     "data": {
      "text/html": [
       "<div>\n",
       "<style scoped>\n",
       "    .dataframe tbody tr th:only-of-type {\n",
       "        vertical-align: middle;\n",
       "    }\n",
       "\n",
       "    .dataframe tbody tr th {\n",
       "        vertical-align: top;\n",
       "    }\n",
       "\n",
       "    .dataframe thead th {\n",
       "        text-align: right;\n",
       "    }\n",
       "</style>\n",
       "<table border=\"1\" class=\"dataframe\">\n",
       "  <thead>\n",
       "    <tr style=\"text-align: right;\">\n",
       "      <th></th>\n",
       "      <th>Job Title</th>\n",
       "      <th>Salary Estimate</th>\n",
       "      <th>Job Description</th>\n",
       "      <th>Rating</th>\n",
       "      <th>Company Name</th>\n",
       "      <th>Location</th>\n",
       "      <th>Headquarters</th>\n",
       "      <th>Size</th>\n",
       "      <th>Founded</th>\n",
       "      <th>Type of ownership</th>\n",
       "      <th>Industry</th>\n",
       "      <th>Sector</th>\n",
       "      <th>Revenue</th>\n",
       "      <th>Competitors</th>\n",
       "    </tr>\n",
       "  </thead>\n",
       "  <tbody>\n",
       "    <tr>\n",
       "      <th>0</th>\n",
       "      <td>Data Scientist</td>\n",
       "      <td>$53K-$91K (Glassdoor est.)</td>\n",
       "      <td>Data Scientist\\nLocation: Albuquerque, NM\\nEdu...</td>\n",
       "      <td>3.8</td>\n",
       "      <td>Tecolote Research\\n3.8</td>\n",
       "      <td>Albuquerque, NM</td>\n",
       "      <td>Goleta, CA</td>\n",
       "      <td>501 to 1000 employees</td>\n",
       "      <td>1973</td>\n",
       "      <td>Company - Private</td>\n",
       "      <td>Aerospace &amp; Defense</td>\n",
       "      <td>Aerospace &amp; Defense</td>\n",
       "      <td>$50 to $100 million (USD)</td>\n",
       "      <td>-1</td>\n",
       "    </tr>\n",
       "    <tr>\n",
       "      <th>1</th>\n",
       "      <td>Healthcare Data Scientist</td>\n",
       "      <td>$63K-$112K (Glassdoor est.)</td>\n",
       "      <td>What You Will Do:\\n\\nI. General Summary\\n\\nThe...</td>\n",
       "      <td>3.4</td>\n",
       "      <td>University of Maryland Medical System\\n3.4</td>\n",
       "      <td>Linthicum, MD</td>\n",
       "      <td>Baltimore, MD</td>\n",
       "      <td>10000+ employees</td>\n",
       "      <td>1984</td>\n",
       "      <td>Other Organization</td>\n",
       "      <td>Health Care Services &amp; Hospitals</td>\n",
       "      <td>Health Care</td>\n",
       "      <td>$2 to $5 billion (USD)</td>\n",
       "      <td>-1</td>\n",
       "    </tr>\n",
       "    <tr>\n",
       "      <th>2</th>\n",
       "      <td>Data Scientist</td>\n",
       "      <td>$80K-$90K (Glassdoor est.)</td>\n",
       "      <td>KnowBe4, Inc. is a high growth information sec...</td>\n",
       "      <td>4.8</td>\n",
       "      <td>KnowBe4\\n4.8</td>\n",
       "      <td>Clearwater, FL</td>\n",
       "      <td>Clearwater, FL</td>\n",
       "      <td>501 to 1000 employees</td>\n",
       "      <td>2010</td>\n",
       "      <td>Company - Private</td>\n",
       "      <td>Security Services</td>\n",
       "      <td>Business Services</td>\n",
       "      <td>$100 to $500 million (USD)</td>\n",
       "      <td>-1</td>\n",
       "    </tr>\n",
       "  </tbody>\n",
       "</table>\n",
       "</div>"
      ],
      "text/plain": [
       "                   Job Title              Salary Estimate  \\\n",
       "0             Data Scientist   $53K-$91K (Glassdoor est.)   \n",
       "1  Healthcare Data Scientist  $63K-$112K (Glassdoor est.)   \n",
       "2             Data Scientist   $80K-$90K (Glassdoor est.)   \n",
       "\n",
       "                                     Job Description  Rating  \\\n",
       "0  Data Scientist\\nLocation: Albuquerque, NM\\nEdu...     3.8   \n",
       "1  What You Will Do:\\n\\nI. General Summary\\n\\nThe...     3.4   \n",
       "2  KnowBe4, Inc. is a high growth information sec...     4.8   \n",
       "\n",
       "                                 Company Name         Location  \\\n",
       "0                      Tecolote Research\\n3.8  Albuquerque, NM   \n",
       "1  University of Maryland Medical System\\n3.4    Linthicum, MD   \n",
       "2                                KnowBe4\\n4.8   Clearwater, FL   \n",
       "\n",
       "     Headquarters                   Size  Founded   Type of ownership  \\\n",
       "0      Goleta, CA  501 to 1000 employees     1973   Company - Private   \n",
       "1   Baltimore, MD       10000+ employees     1984  Other Organization   \n",
       "2  Clearwater, FL  501 to 1000 employees     2010   Company - Private   \n",
       "\n",
       "                           Industry               Sector  \\\n",
       "0               Aerospace & Defense  Aerospace & Defense   \n",
       "1  Health Care Services & Hospitals          Health Care   \n",
       "2                 Security Services    Business Services   \n",
       "\n",
       "                      Revenue Competitors  \n",
       "0   $50 to $100 million (USD)          -1  \n",
       "1      $2 to $5 billion (USD)          -1  \n",
       "2  $100 to $500 million (USD)          -1  "
      ]
     },
     "execution_count": 3,
     "metadata": {},
     "output_type": "execute_result"
    }
   ],
   "source": [
    "df.drop(\"Unnamed: 0\", axis=1,  inplace=True)\n",
    "df.head(3)"
   ]
  },
  {
   "cell_type": "code",
   "execution_count": 4,
   "id": "db3e011d",
   "metadata": {},
   "outputs": [
    {
     "data": {
      "text/plain": [
       "(956, 14)"
      ]
     },
     "execution_count": 4,
     "metadata": {},
     "output_type": "execute_result"
    }
   ],
   "source": [
    "df.shape"
   ]
  },
  {
   "cell_type": "code",
   "execution_count": 5,
   "id": "41e3eba6",
   "metadata": {},
   "outputs": [
    {
     "data": {
      "text/html": [
       "<div>\n",
       "<style scoped>\n",
       "    .dataframe tbody tr th:only-of-type {\n",
       "        vertical-align: middle;\n",
       "    }\n",
       "\n",
       "    .dataframe tbody tr th {\n",
       "        vertical-align: top;\n",
       "    }\n",
       "\n",
       "    .dataframe thead th {\n",
       "        text-align: right;\n",
       "    }\n",
       "</style>\n",
       "<table border=\"1\" class=\"dataframe\">\n",
       "  <thead>\n",
       "    <tr style=\"text-align: right;\">\n",
       "      <th></th>\n",
       "      <th>Rating</th>\n",
       "      <th>Founded</th>\n",
       "    </tr>\n",
       "  </thead>\n",
       "  <tbody>\n",
       "    <tr>\n",
       "      <th>count</th>\n",
       "      <td>956.000000</td>\n",
       "      <td>956.000000</td>\n",
       "    </tr>\n",
       "    <tr>\n",
       "      <th>mean</th>\n",
       "      <td>3.601255</td>\n",
       "      <td>1774.605649</td>\n",
       "    </tr>\n",
       "    <tr>\n",
       "      <th>std</th>\n",
       "      <td>1.067619</td>\n",
       "      <td>598.942517</td>\n",
       "    </tr>\n",
       "    <tr>\n",
       "      <th>min</th>\n",
       "      <td>-1.000000</td>\n",
       "      <td>-1.000000</td>\n",
       "    </tr>\n",
       "    <tr>\n",
       "      <th>25%</th>\n",
       "      <td>3.300000</td>\n",
       "      <td>1937.000000</td>\n",
       "    </tr>\n",
       "    <tr>\n",
       "      <th>50%</th>\n",
       "      <td>3.800000</td>\n",
       "      <td>1992.000000</td>\n",
       "    </tr>\n",
       "    <tr>\n",
       "      <th>75%</th>\n",
       "      <td>4.200000</td>\n",
       "      <td>2008.000000</td>\n",
       "    </tr>\n",
       "    <tr>\n",
       "      <th>max</th>\n",
       "      <td>5.000000</td>\n",
       "      <td>2019.000000</td>\n",
       "    </tr>\n",
       "  </tbody>\n",
       "</table>\n",
       "</div>"
      ],
      "text/plain": [
       "           Rating      Founded\n",
       "count  956.000000   956.000000\n",
       "mean     3.601255  1774.605649\n",
       "std      1.067619   598.942517\n",
       "min     -1.000000    -1.000000\n",
       "25%      3.300000  1937.000000\n",
       "50%      3.800000  1992.000000\n",
       "75%      4.200000  2008.000000\n",
       "max      5.000000  2019.000000"
      ]
     },
     "execution_count": 5,
     "metadata": {},
     "output_type": "execute_result"
    }
   ],
   "source": [
    "df.describe()"
   ]
  },
  {
   "cell_type": "code",
   "execution_count": 6,
   "id": "fa0cb792",
   "metadata": {},
   "outputs": [
    {
     "data": {
      "text/plain": [
       "Job Title             object\n",
       "Salary Estimate       object\n",
       "Job Description       object\n",
       "Rating               float64\n",
       "Company Name          object\n",
       "Location              object\n",
       "Headquarters          object\n",
       "Size                  object\n",
       "Founded                int64\n",
       "Type of ownership     object\n",
       "Industry              object\n",
       "Sector                object\n",
       "Revenue               object\n",
       "Competitors           object\n",
       "dtype: object"
      ]
     },
     "execution_count": 6,
     "metadata": {},
     "output_type": "execute_result"
    }
   ],
   "source": [
    "df.dtypes"
   ]
  },
  {
   "cell_type": "code",
   "execution_count": 7,
   "id": "0ad0f7c8",
   "metadata": {
    "scrolled": true
   },
   "outputs": [
    {
     "data": {
      "text/plain": [
       "Index(['Job Title', 'Salary Estimate', 'Job Description', 'Rating',\n",
       "       'Company Name', 'Location', 'Headquarters', 'Size', 'Founded',\n",
       "       'Type of ownership', 'Industry', 'Sector', 'Revenue', 'Competitors'],\n",
       "      dtype='object')"
      ]
     },
     "execution_count": 7,
     "metadata": {},
     "output_type": "execute_result"
    }
   ],
   "source": [
    "df.columns"
   ]
  },
  {
   "cell_type": "code",
   "execution_count": 8,
   "id": "c6f27a36",
   "metadata": {},
   "outputs": [],
   "source": [
    "lis = df['Job Title'].unique()"
   ]
  },
  {
   "cell_type": "code",
   "execution_count": 9,
   "id": "4345b715",
   "metadata": {
    "scrolled": true
   },
   "outputs": [
    {
     "data": {
      "text/plain": [
       "array(['Data Scientist', 'Healthcare Data Scientist',\n",
       "       'Research Scientist', 'Staff Data Scientist - Technology',\n",
       "       'Data Analyst', 'Data Engineer I', 'Scientist I/II, Biology',\n",
       "       'Customer Data Scientist',\n",
       "       'Data Scientist - Health Data Analytics',\n",
       "       'Senior Data Scientist / Machine Learning'], dtype=object)"
      ]
     },
     "execution_count": 9,
     "metadata": {},
     "output_type": "execute_result"
    }
   ],
   "source": [
    "lis[:10]"
   ]
  },
  {
   "cell_type": "code",
   "execution_count": 10,
   "id": "ce952ff7",
   "metadata": {
    "scrolled": true
   },
   "outputs": [
    {
     "data": {
      "text/plain": [
       "328"
      ]
     },
     "execution_count": 10,
     "metadata": {},
     "output_type": "execute_result"
    }
   ],
   "source": [
    "len(df['Job Title'].unique())"
   ]
  },
  {
   "cell_type": "markdown",
   "id": "a2acd390",
   "metadata": {},
   "source": [
    "job role,  \n",
    "remove the rows with salary == -1,  \n",
    "salary parsing,  \n",
    "company name,  \n",
    "age of the company,  \n",
    "parsing the job description,  \n"
   ]
  },
  {
   "cell_type": "markdown",
   "id": "cffd9d84",
   "metadata": {},
   "source": [
    "different job titles :- (major)    \n",
    "Data Scientist   \n",
    "data analyst   \n",
    "data engineer  \n",
    " "
   ]
  },
  {
   "cell_type": "code",
   "execution_count": 11,
   "id": "5d01e36d",
   "metadata": {},
   "outputs": [],
   "source": [
    "anl = ['Analyst', 'Analysis', 'Analytics']\n",
    "sci = ['Scientist', 'SCIENTIST', ]\n",
    "eng = ['Engineer', 'Deep Learning', ]\n",
    "ml = ['Machine Learning', ]"
   ]
  },
  {
   "cell_type": "code",
   "execution_count": 12,
   "id": "12efb2d2",
   "metadata": {},
   "outputs": [
    {
     "data": {
      "text/plain": [
       "314"
      ]
     },
     "execution_count": 12,
     "metadata": {},
     "output_type": "execute_result"
    }
   ],
   "source": [
    "df_ml = df['Job Title'].apply(lambda x: \"Machine Learning\" if 'Machine Learning' in x else x)\n",
    "len(df_ml.unique()) "
   ]
  },
  {
   "cell_type": "code",
   "execution_count": 13,
   "id": "b37872bb",
   "metadata": {},
   "outputs": [
    {
     "data": {
      "text/plain": [
       "147"
      ]
     },
     "execution_count": 13,
     "metadata": {},
     "output_type": "execute_result"
    }
   ],
   "source": [
    "df_s = df_ml.apply(lambda x: \"Data Scientist\" if 'Scientist' in x else x)\n",
    "len(df_s.unique()) "
   ]
  },
  {
   "cell_type": "code",
   "execution_count": 14,
   "id": "8ecace44",
   "metadata": {},
   "outputs": [
    {
     "data": {
      "text/plain": [
       "142"
      ]
     },
     "execution_count": 14,
     "metadata": {},
     "output_type": "execute_result"
    }
   ],
   "source": [
    "df_s1 = df_s.apply(lambda x: \"Data Scientist\" if 'SCIENTIST' in x else x)\n",
    "len(df_s1.unique()) "
   ]
  },
  {
   "cell_type": "code",
   "execution_count": 15,
   "id": "530fc356",
   "metadata": {},
   "outputs": [
    {
     "data": {
      "text/plain": [
       "92"
      ]
     },
     "execution_count": 15,
     "metadata": {},
     "output_type": "execute_result"
    }
   ],
   "source": [
    "df_a = df_s1.apply(lambda x: \"Data Analyst\" if 'Analyst' in x else x)\n",
    "len(df_a.unique()) "
   ]
  },
  {
   "cell_type": "code",
   "execution_count": 16,
   "id": "302491c4",
   "metadata": {},
   "outputs": [
    {
     "data": {
      "text/plain": [
       "91"
      ]
     },
     "execution_count": 16,
     "metadata": {},
     "output_type": "execute_result"
    }
   ],
   "source": [
    "df_a1 = df_a.apply(lambda x: \"Data Analyst\" if 'Analysis' in x else x)\n",
    "len(df_a1.unique()) "
   ]
  },
  {
   "cell_type": "code",
   "execution_count": 17,
   "id": "5fdd6d42",
   "metadata": {},
   "outputs": [
    {
     "data": {
      "text/plain": [
       "75"
      ]
     },
     "execution_count": 17,
     "metadata": {},
     "output_type": "execute_result"
    }
   ],
   "source": [
    "df_a2 = df_a1.apply(lambda x: \"Data Analyst\" if 'Analytics' in x else x)\n",
    "len(df_a2.unique()) "
   ]
  },
  {
   "cell_type": "code",
   "execution_count": 18,
   "id": "fda4ce18",
   "metadata": {},
   "outputs": [
    {
     "data": {
      "text/plain": [
       "32"
      ]
     },
     "execution_count": 18,
     "metadata": {},
     "output_type": "execute_result"
    }
   ],
   "source": [
    "df_e = df_a2.apply(lambda x: \"Data Engineer\" if 'Engineer' in x else x)\n",
    "len(df_e.unique()) "
   ]
  },
  {
   "cell_type": "code",
   "execution_count": 19,
   "id": "750f54a0",
   "metadata": {},
   "outputs": [
    {
     "data": {
      "text/plain": [
       "20"
      ]
     },
     "execution_count": 19,
     "metadata": {},
     "output_type": "execute_result"
    }
   ],
   "source": [
    "df_s1 = df_e.apply(lambda x: \"Data Scientist\" if 'Science' in x else x)\n",
    "len(df_s1.unique()) "
   ]
  },
  {
   "cell_type": "code",
   "execution_count": 20,
   "id": "3400b9ed",
   "metadata": {},
   "outputs": [
    {
     "data": {
      "text/plain": [
       "array(['Data Scientist', 'Data Analyst', 'Data Engineer',\n",
       "       'Machine Learning', 'Data Management Specialist', 'Data Modeler',\n",
       "       'Senior Director Biometrics and Clinical Data Management',\n",
       "       'Data Systems Specialist 2', 'Environmental Data Specialist',\n",
       "       'CONSULTANT– DATA ANALYTICS GROUP', 'Data Operations Lead',\n",
       "       'Director - Data, Privacy and AI Governance', 'Chief Data Officer',\n",
       "       'Clinical Data Manager', 'Enterprise Architect, Data',\n",
       "       'Technology-Minded, Data Professional Opportunities',\n",
       "       'Data Modeler (Analytical Systems)',\n",
       "       'Product Manager/Data Evangelist',\n",
       "       'Business Development - Data Supply Partnerships (Veraset)',\n",
       "       'Data Architect / Data Modeler'], dtype=object)"
      ]
     },
     "execution_count": 20,
     "metadata": {},
     "output_type": "execute_result"
    }
   ],
   "source": [
    "df_s1.unique()"
   ]
  },
  {
   "cell_type": "code",
   "execution_count": 21,
   "id": "88ccec4d",
   "metadata": {},
   "outputs": [
    {
     "data": {
      "text/plain": [
       "array(['Data Scientist', 'Data Analyst', 'Data Engineer',\n",
       "       'Machine Learning', 'Others'], dtype=object)"
      ]
     },
     "execution_count": 21,
     "metadata": {},
     "output_type": "execute_result"
    }
   ],
   "source": [
    "df_others = df_s1.apply(lambda x: \"Others\" if x not in ['Data Scientist', 'Data Analyst', 'Data Engineer',\n",
    "       'Machine Learning'] else x)\n",
    "df_others.unique()"
   ]
  },
  {
   "cell_type": "code",
   "execution_count": 22,
   "id": "18688f8e",
   "metadata": {},
   "outputs": [
    {
     "data": {
      "text/plain": [
       "Index(['Job Title', 'Salary Estimate', 'Job Description', 'Rating',\n",
       "       'Company Name', 'Location', 'Headquarters', 'Size', 'Founded',\n",
       "       'Type of ownership', 'Industry', 'Sector', 'Revenue', 'Competitors'],\n",
       "      dtype='object')"
      ]
     },
     "execution_count": 22,
     "metadata": {},
     "output_type": "execute_result"
    }
   ],
   "source": [
    "df.columns"
   ]
  },
  {
   "cell_type": "code",
   "execution_count": 23,
   "id": "4a92f39d",
   "metadata": {},
   "outputs": [],
   "source": [
    "df.drop('Job Title', axis=1, inplace=True)"
   ]
  },
  {
   "cell_type": "code",
   "execution_count": 24,
   "id": "cea693c8",
   "metadata": {},
   "outputs": [
    {
     "data": {
      "text/html": [
       "<div>\n",
       "<style scoped>\n",
       "    .dataframe tbody tr th:only-of-type {\n",
       "        vertical-align: middle;\n",
       "    }\n",
       "\n",
       "    .dataframe tbody tr th {\n",
       "        vertical-align: top;\n",
       "    }\n",
       "\n",
       "    .dataframe thead th {\n",
       "        text-align: right;\n",
       "    }\n",
       "</style>\n",
       "<table border=\"1\" class=\"dataframe\">\n",
       "  <thead>\n",
       "    <tr style=\"text-align: right;\">\n",
       "      <th></th>\n",
       "      <th>Salary Estimate</th>\n",
       "      <th>Job Description</th>\n",
       "      <th>Rating</th>\n",
       "      <th>Company Name</th>\n",
       "      <th>Location</th>\n",
       "      <th>Headquarters</th>\n",
       "      <th>Size</th>\n",
       "      <th>Founded</th>\n",
       "      <th>Type of ownership</th>\n",
       "      <th>Industry</th>\n",
       "      <th>Sector</th>\n",
       "      <th>Revenue</th>\n",
       "      <th>Competitors</th>\n",
       "    </tr>\n",
       "  </thead>\n",
       "  <tbody>\n",
       "    <tr>\n",
       "      <th>728</th>\n",
       "      <td>$78K-$147K (Glassdoor est.)</td>\n",
       "      <td>The Genesys Cloud Analytics platform is the fo...</td>\n",
       "      <td>4.3</td>\n",
       "      <td>Genesys\\n4.3</td>\n",
       "      <td>Durham, NC</td>\n",
       "      <td>Daly City, CA</td>\n",
       "      <td>5001 to 10000 employees</td>\n",
       "      <td>1990</td>\n",
       "      <td>Company - Private</td>\n",
       "      <td>Computer Hardware &amp; Software</td>\n",
       "      <td>Information Technology</td>\n",
       "      <td>$1 to $2 billion (USD)</td>\n",
       "      <td>Avaya, Five9, Salesforce</td>\n",
       "    </tr>\n",
       "    <tr>\n",
       "      <th>775</th>\n",
       "      <td>-1</td>\n",
       "      <td>10-Oct-2019\\n\\nJob ID\\n279335BR\\n{\"QuestionNam...</td>\n",
       "      <td>3.8</td>\n",
       "      <td>Novartis\\n3.8</td>\n",
       "      <td>Cambridge, MA</td>\n",
       "      <td>Basel, Switzerland</td>\n",
       "      <td>10000+ employees</td>\n",
       "      <td>1996</td>\n",
       "      <td>Company - Public</td>\n",
       "      <td>Biotech &amp; Pharmaceuticals</td>\n",
       "      <td>Biotech &amp; Pharmaceuticals</td>\n",
       "      <td>$10+ billion (USD)</td>\n",
       "      <td>-1</td>\n",
       "    </tr>\n",
       "    <tr>\n",
       "      <th>717</th>\n",
       "      <td>-1</td>\n",
       "      <td>The $21B Powersports market (motorcycles, ATVs...</td>\n",
       "      <td>4.2</td>\n",
       "      <td>Octane\\n4.2</td>\n",
       "      <td>New York, NY</td>\n",
       "      <td>New York, NY</td>\n",
       "      <td>51 to 200 employees</td>\n",
       "      <td>2014</td>\n",
       "      <td>Company - Private</td>\n",
       "      <td>Lending</td>\n",
       "      <td>Finance</td>\n",
       "      <td>Unknown / Non-Applicable</td>\n",
       "      <td>-1</td>\n",
       "    </tr>\n",
       "    <tr>\n",
       "      <th>285</th>\n",
       "      <td>$63K-$105K (Glassdoor est.)</td>\n",
       "      <td>Position Summary\\nOur Data Science team is cur...</td>\n",
       "      <td>4.3</td>\n",
       "      <td>SMC 3\\n4.3</td>\n",
       "      <td>Louisville, KY</td>\n",
       "      <td>Peachtree City, GA</td>\n",
       "      <td>51 to 200 employees</td>\n",
       "      <td>1935</td>\n",
       "      <td>Nonprofit Organization</td>\n",
       "      <td>Logistics &amp; Supply Chain</td>\n",
       "      <td>Transportation &amp; Logistics</td>\n",
       "      <td>$10 to $25 million (USD)</td>\n",
       "      <td>-1</td>\n",
       "    </tr>\n",
       "    <tr>\n",
       "      <th>460</th>\n",
       "      <td>-1</td>\n",
       "      <td>06-Feb-2020\\n\\nJob ID\\n279186BR\\n{\"QuestionNam...</td>\n",
       "      <td>3.8</td>\n",
       "      <td>Novartis\\n3.8</td>\n",
       "      <td>Cambridge, MA</td>\n",
       "      <td>Basel, Switzerland</td>\n",
       "      <td>10000+ employees</td>\n",
       "      <td>1996</td>\n",
       "      <td>Company - Public</td>\n",
       "      <td>Biotech &amp; Pharmaceuticals</td>\n",
       "      <td>Biotech &amp; Pharmaceuticals</td>\n",
       "      <td>$10+ billion (USD)</td>\n",
       "      <td>-1</td>\n",
       "    </tr>\n",
       "  </tbody>\n",
       "</table>\n",
       "</div>"
      ],
      "text/plain": [
       "                 Salary Estimate  \\\n",
       "728  $78K-$147K (Glassdoor est.)   \n",
       "775                           -1   \n",
       "717                           -1   \n",
       "285  $63K-$105K (Glassdoor est.)   \n",
       "460                           -1   \n",
       "\n",
       "                                       Job Description  Rating   Company Name  \\\n",
       "728  The Genesys Cloud Analytics platform is the fo...     4.3   Genesys\\n4.3   \n",
       "775  10-Oct-2019\\n\\nJob ID\\n279335BR\\n{\"QuestionNam...     3.8  Novartis\\n3.8   \n",
       "717  The $21B Powersports market (motorcycles, ATVs...     4.2    Octane\\n4.2   \n",
       "285  Position Summary\\nOur Data Science team is cur...     4.3     SMC 3\\n4.3   \n",
       "460  06-Feb-2020\\n\\nJob ID\\n279186BR\\n{\"QuestionNam...     3.8  Novartis\\n3.8   \n",
       "\n",
       "           Location        Headquarters                     Size  Founded  \\\n",
       "728      Durham, NC       Daly City, CA  5001 to 10000 employees     1990   \n",
       "775   Cambridge, MA  Basel, Switzerland         10000+ employees     1996   \n",
       "717    New York, NY        New York, NY      51 to 200 employees     2014   \n",
       "285  Louisville, KY  Peachtree City, GA      51 to 200 employees     1935   \n",
       "460   Cambridge, MA  Basel, Switzerland         10000+ employees     1996   \n",
       "\n",
       "          Type of ownership                      Industry  \\\n",
       "728       Company - Private  Computer Hardware & Software   \n",
       "775        Company - Public     Biotech & Pharmaceuticals   \n",
       "717       Company - Private                       Lending   \n",
       "285  Nonprofit Organization      Logistics & Supply Chain   \n",
       "460        Company - Public     Biotech & Pharmaceuticals   \n",
       "\n",
       "                         Sector                   Revenue  \\\n",
       "728      Information Technology    $1 to $2 billion (USD)   \n",
       "775   Biotech & Pharmaceuticals        $10+ billion (USD)   \n",
       "717                     Finance  Unknown / Non-Applicable   \n",
       "285  Transportation & Logistics  $10 to $25 million (USD)   \n",
       "460   Biotech & Pharmaceuticals        $10+ billion (USD)   \n",
       "\n",
       "                  Competitors  \n",
       "728  Avaya, Five9, Salesforce  \n",
       "775                        -1  \n",
       "717                        -1  \n",
       "285                        -1  \n",
       "460                        -1  "
      ]
     },
     "execution_count": 24,
     "metadata": {},
     "output_type": "execute_result"
    }
   ],
   "source": [
    "df.sample(5)"
   ]
  },
  {
   "cell_type": "code",
   "execution_count": 25,
   "id": "fc21c7d0",
   "metadata": {},
   "outputs": [
    {
     "data": {
      "text/html": [
       "<div>\n",
       "<style scoped>\n",
       "    .dataframe tbody tr th:only-of-type {\n",
       "        vertical-align: middle;\n",
       "    }\n",
       "\n",
       "    .dataframe tbody tr th {\n",
       "        vertical-align: top;\n",
       "    }\n",
       "\n",
       "    .dataframe thead th {\n",
       "        text-align: right;\n",
       "    }\n",
       "</style>\n",
       "<table border=\"1\" class=\"dataframe\">\n",
       "  <thead>\n",
       "    <tr style=\"text-align: right;\">\n",
       "      <th></th>\n",
       "      <th>Salary Estimate</th>\n",
       "      <th>Job Description</th>\n",
       "      <th>Rating</th>\n",
       "      <th>Company Name</th>\n",
       "      <th>Location</th>\n",
       "      <th>Headquarters</th>\n",
       "      <th>Size</th>\n",
       "      <th>Founded</th>\n",
       "      <th>Type of ownership</th>\n",
       "      <th>Industry</th>\n",
       "      <th>Sector</th>\n",
       "      <th>Revenue</th>\n",
       "      <th>Competitors</th>\n",
       "      <th>Job Title</th>\n",
       "    </tr>\n",
       "  </thead>\n",
       "  <tbody>\n",
       "    <tr>\n",
       "      <th>0</th>\n",
       "      <td>$53K-$91K (Glassdoor est.)</td>\n",
       "      <td>Data Scientist\\nLocation: Albuquerque, NM\\nEdu...</td>\n",
       "      <td>3.8</td>\n",
       "      <td>Tecolote Research\\n3.8</td>\n",
       "      <td>Albuquerque, NM</td>\n",
       "      <td>Goleta, CA</td>\n",
       "      <td>501 to 1000 employees</td>\n",
       "      <td>1973</td>\n",
       "      <td>Company - Private</td>\n",
       "      <td>Aerospace &amp; Defense</td>\n",
       "      <td>Aerospace &amp; Defense</td>\n",
       "      <td>$50 to $100 million (USD)</td>\n",
       "      <td>-1</td>\n",
       "      <td>Data Scientist</td>\n",
       "    </tr>\n",
       "    <tr>\n",
       "      <th>1</th>\n",
       "      <td>$63K-$112K (Glassdoor est.)</td>\n",
       "      <td>What You Will Do:\\n\\nI. General Summary\\n\\nThe...</td>\n",
       "      <td>3.4</td>\n",
       "      <td>University of Maryland Medical System\\n3.4</td>\n",
       "      <td>Linthicum, MD</td>\n",
       "      <td>Baltimore, MD</td>\n",
       "      <td>10000+ employees</td>\n",
       "      <td>1984</td>\n",
       "      <td>Other Organization</td>\n",
       "      <td>Health Care Services &amp; Hospitals</td>\n",
       "      <td>Health Care</td>\n",
       "      <td>$2 to $5 billion (USD)</td>\n",
       "      <td>-1</td>\n",
       "      <td>Data Scientist</td>\n",
       "    </tr>\n",
       "    <tr>\n",
       "      <th>2</th>\n",
       "      <td>$80K-$90K (Glassdoor est.)</td>\n",
       "      <td>KnowBe4, Inc. is a high growth information sec...</td>\n",
       "      <td>4.8</td>\n",
       "      <td>KnowBe4\\n4.8</td>\n",
       "      <td>Clearwater, FL</td>\n",
       "      <td>Clearwater, FL</td>\n",
       "      <td>501 to 1000 employees</td>\n",
       "      <td>2010</td>\n",
       "      <td>Company - Private</td>\n",
       "      <td>Security Services</td>\n",
       "      <td>Business Services</td>\n",
       "      <td>$100 to $500 million (USD)</td>\n",
       "      <td>-1</td>\n",
       "      <td>Data Scientist</td>\n",
       "    </tr>\n",
       "    <tr>\n",
       "      <th>3</th>\n",
       "      <td>$56K-$97K (Glassdoor est.)</td>\n",
       "      <td>*Organization and Job ID**\\nJob ID: 310709\\n\\n...</td>\n",
       "      <td>3.8</td>\n",
       "      <td>PNNL\\n3.8</td>\n",
       "      <td>Richland, WA</td>\n",
       "      <td>Richland, WA</td>\n",
       "      <td>1001 to 5000 employees</td>\n",
       "      <td>1965</td>\n",
       "      <td>Government</td>\n",
       "      <td>Energy</td>\n",
       "      <td>Oil, Gas, Energy &amp; Utilities</td>\n",
       "      <td>$500 million to $1 billion (USD)</td>\n",
       "      <td>Oak Ridge National Laboratory, National Renewa...</td>\n",
       "      <td>Data Scientist</td>\n",
       "    </tr>\n",
       "    <tr>\n",
       "      <th>4</th>\n",
       "      <td>$86K-$143K (Glassdoor est.)</td>\n",
       "      <td>Data Scientist\\nAffinity Solutions / Marketing...</td>\n",
       "      <td>2.9</td>\n",
       "      <td>Affinity Solutions\\n2.9</td>\n",
       "      <td>New York, NY</td>\n",
       "      <td>New York, NY</td>\n",
       "      <td>51 to 200 employees</td>\n",
       "      <td>1998</td>\n",
       "      <td>Company - Private</td>\n",
       "      <td>Advertising &amp; Marketing</td>\n",
       "      <td>Business Services</td>\n",
       "      <td>Unknown / Non-Applicable</td>\n",
       "      <td>Commerce Signals, Cardlytics, Yodlee</td>\n",
       "      <td>Data Scientist</td>\n",
       "    </tr>\n",
       "  </tbody>\n",
       "</table>\n",
       "</div>"
      ],
      "text/plain": [
       "               Salary Estimate  \\\n",
       "0   $53K-$91K (Glassdoor est.)   \n",
       "1  $63K-$112K (Glassdoor est.)   \n",
       "2   $80K-$90K (Glassdoor est.)   \n",
       "3   $56K-$97K (Glassdoor est.)   \n",
       "4  $86K-$143K (Glassdoor est.)   \n",
       "\n",
       "                                     Job Description  Rating  \\\n",
       "0  Data Scientist\\nLocation: Albuquerque, NM\\nEdu...     3.8   \n",
       "1  What You Will Do:\\n\\nI. General Summary\\n\\nThe...     3.4   \n",
       "2  KnowBe4, Inc. is a high growth information sec...     4.8   \n",
       "3  *Organization and Job ID**\\nJob ID: 310709\\n\\n...     3.8   \n",
       "4  Data Scientist\\nAffinity Solutions / Marketing...     2.9   \n",
       "\n",
       "                                 Company Name         Location  \\\n",
       "0                      Tecolote Research\\n3.8  Albuquerque, NM   \n",
       "1  University of Maryland Medical System\\n3.4    Linthicum, MD   \n",
       "2                                KnowBe4\\n4.8   Clearwater, FL   \n",
       "3                                   PNNL\\n3.8     Richland, WA   \n",
       "4                     Affinity Solutions\\n2.9     New York, NY   \n",
       "\n",
       "     Headquarters                    Size  Founded   Type of ownership  \\\n",
       "0      Goleta, CA   501 to 1000 employees     1973   Company - Private   \n",
       "1   Baltimore, MD        10000+ employees     1984  Other Organization   \n",
       "2  Clearwater, FL   501 to 1000 employees     2010   Company - Private   \n",
       "3    Richland, WA  1001 to 5000 employees     1965          Government   \n",
       "4    New York, NY     51 to 200 employees     1998   Company - Private   \n",
       "\n",
       "                           Industry                        Sector  \\\n",
       "0               Aerospace & Defense           Aerospace & Defense   \n",
       "1  Health Care Services & Hospitals                   Health Care   \n",
       "2                 Security Services             Business Services   \n",
       "3                            Energy  Oil, Gas, Energy & Utilities   \n",
       "4           Advertising & Marketing             Business Services   \n",
       "\n",
       "                            Revenue  \\\n",
       "0         $50 to $100 million (USD)   \n",
       "1            $2 to $5 billion (USD)   \n",
       "2        $100 to $500 million (USD)   \n",
       "3  $500 million to $1 billion (USD)   \n",
       "4          Unknown / Non-Applicable   \n",
       "\n",
       "                                         Competitors       Job Title  \n",
       "0                                                 -1  Data Scientist  \n",
       "1                                                 -1  Data Scientist  \n",
       "2                                                 -1  Data Scientist  \n",
       "3  Oak Ridge National Laboratory, National Renewa...  Data Scientist  \n",
       "4               Commerce Signals, Cardlytics, Yodlee  Data Scientist  "
      ]
     },
     "execution_count": 25,
     "metadata": {},
     "output_type": "execute_result"
    }
   ],
   "source": [
    "df1 = pd.concat([df, df_others], axis=1)\n",
    "df1.head()"
   ]
  },
  {
   "cell_type": "code",
   "execution_count": 26,
   "id": "14c52942",
   "metadata": {},
   "outputs": [],
   "source": [
    "#salary parsing!.......\n",
    "# there are some -1 in this columns whichis not required"
   ]
  },
  {
   "cell_type": "code",
   "execution_count": 27,
   "id": "ae6a9cca",
   "metadata": {
    "scrolled": true
   },
   "outputs": [
    {
     "data": {
      "text/plain": [
       "((742, 14), (956, 14))"
      ]
     },
     "execution_count": 27,
     "metadata": {},
     "output_type": "execute_result"
    }
   ],
   "source": [
    "df2 = df1[df1['Salary Estimate'] != '-1']\n",
    "df2.shape, df1.shape"
   ]
  },
  {
   "cell_type": "code",
   "execution_count": 28,
   "id": "18bd1b9f",
   "metadata": {
    "scrolled": true
   },
   "outputs": [],
   "source": [
    "# different types of elements of Salary Estimate:- \n",
    "# '$115K-$180K (Glassdoor est.)'\n",
    "# '$21-$34 Per Hour(Glassdoor est.)'"
   ]
  },
  {
   "cell_type": "code",
   "execution_count": 29,
   "id": "c7546aa5",
   "metadata": {},
   "outputs": [
    {
     "data": {
      "text/plain": [
       "530      $49K-$76K (Glassdoor est.)\n",
       "725     $69K-$119K (Glassdoor est.)\n",
       "68       $49K-$85K (Glassdoor est.)\n",
       "602     $67K-$135K (Glassdoor est.)\n",
       "411     $67K-$135K (Glassdoor est.)\n",
       "806     $97K-$181K (Glassdoor est.)\n",
       "630      $35K-$62K (Glassdoor est.)\n",
       "449    $108K-$171K (Glassdoor est.)\n",
       "430      $43K-$86K (Glassdoor est.)\n",
       "Name: Salary Estimate, dtype: object"
      ]
     },
     "execution_count": 29,
     "metadata": {},
     "output_type": "execute_result"
    }
   ],
   "source": [
    "# df2[df2['Salary Estimate'] == 'Employer Provided Salary:$150K-$160K']\n",
    "sal = df2['Salary Estimate'].apply(lambda x: x.split(':')[-1])\n",
    "sal.sample(9)\n",
    "# splitting the salary and we are gonna take only the avg salary-[cause we have min - max salaries.]"
   ]
  },
  {
   "cell_type": "code",
   "execution_count": 30,
   "id": "c057b42e",
   "metadata": {},
   "outputs": [
    {
     "data": {
      "text/plain": [
       "(742, 718)"
      ]
     },
     "execution_count": 30,
     "metadata": {},
     "output_type": "execute_result"
    }
   ],
   "source": [
    "sal1 = sal.apply(lambda x: '-1' if 'Per Hour' in x else x) \n",
    "sal2 = sal1[sal1 != '-1']\n",
    "len(sal1), len(sal2)"
   ]
  },
  {
   "cell_type": "code",
   "execution_count": 31,
   "id": "062ce24a",
   "metadata": {},
   "outputs": [],
   "source": [
    "sal3 = sal2.apply( lambda x : x.split(' ')[0] )\n",
    "# sal3.unique()"
   ]
  },
  {
   "cell_type": "code",
   "execution_count": 32,
   "id": "b3c89d0c-9df2-44f9-b2ee-b46aae34b009",
   "metadata": {},
   "outputs": [
    {
     "data": {
      "text/plain": [
       "325     $55K-$100K\n",
       "588     $63K-$111K\n",
       "296       $15K-$16\n",
       "346     $81K-$159K\n",
       "810      $53K-$96K\n",
       "619      $56K-$95K\n",
       "745    $139K-$221K\n",
       "82      $74K-$122K\n",
       "116     $65K-$110K\n",
       "Name: Salary Estimate, dtype: object"
      ]
     },
     "execution_count": 32,
     "metadata": {},
     "output_type": "execute_result"
    }
   ],
   "source": [
    "sal4 = sal3.apply(lambda x: x.split('K(')[0] )\n",
    "sal4.sample(9)"
   ]
  },
  {
   "cell_type": "code",
   "execution_count": 33,
   "id": "9d921573-8a90-4d9c-8a7b-964685f14362",
   "metadata": {},
   "outputs": [],
   "source": [
    "sal5 = sal4.apply(lambda x: (x.replace( 'K', '' )).replace( '$', '' ) )\n",
    "avg_salary = sal5.apply( lambda x : (int(x.split('-')[0]) +  int(x.split('-')[1]))/2 )"
   ]
  },
  {
   "cell_type": "code",
   "execution_count": 34,
   "id": "3aeed940-362e-4d36-9218-4392b01a9808",
   "metadata": {},
   "outputs": [
    {
     "data": {
      "text/plain": [
       "Index(['Salary Estimate', 'Job Description', 'Rating', 'Company Name',\n",
       "       'Location', 'Headquarters', 'Size', 'Founded', 'Type of ownership',\n",
       "       'Industry', 'Sector', 'Revenue', 'Competitors', 'Job Title',\n",
       "       'avg_salary'],\n",
       "      dtype='object')"
      ]
     },
     "execution_count": 34,
     "metadata": {},
     "output_type": "execute_result"
    }
   ],
   "source": [
    "avg_salary = pd.Series( avg_salary, name=\"avg_salary\" )\n",
    "\n",
    "df3 = pd.concat( [df2, avg_salary], axis=1 )\n",
    "df3.columns"
   ]
  },
  {
   "cell_type": "code",
   "execution_count": 35,
   "id": "7c7e1fd5-3ef4-45a5-becd-5b72f780d68d",
   "metadata": {},
   "outputs": [
    {
     "data": {
      "text/plain": [
       "count    742.000000\n",
       "mean       3.618868\n",
       "std        0.801210\n",
       "min       -1.000000\n",
       "25%        3.300000\n",
       "50%        3.700000\n",
       "75%        4.000000\n",
       "max        5.000000\n",
       "Name: Rating, dtype: float64"
      ]
     },
     "execution_count": 35,
     "metadata": {},
     "output_type": "execute_result"
    }
   ],
   "source": [
    "#company name cleaning!....\n",
    "df3.Rating.describe()"
   ]
  },
  {
   "cell_type": "code",
   "execution_count": 36,
   "id": "78b4c5db-d0d0-4d61-b17a-c702ef814035",
   "metadata": {},
   "outputs": [
    {
     "data": {
      "text/plain": [
       "(731, 15)"
      ]
     },
     "execution_count": 36,
     "metadata": {},
     "output_type": "execute_result"
    }
   ],
   "source": [
    "df3 = df3[df3.Rating != -1]\n",
    "df3.shape"
   ]
  },
  {
   "cell_type": "code",
   "execution_count": 37,
   "id": "e8f7a553-0f9f-4c4e-a986-ff190928045e",
   "metadata": {},
   "outputs": [
    {
     "data": {
      "text/plain": [
       "0                          Tecolote Research\n",
       "1      University of Maryland Medical System\n",
       "2                                    KnowBe4\n",
       "3                                       PNNL\n",
       "4                         Affinity Solutions\n",
       "                       ...                  \n",
       "950                                      GSK\n",
       "951                               Eventbrite\n",
       "952           Software Engineering Institute\n",
       "953                             Numeric, LLC\n",
       "955             Riverside Research Institute\n",
       "Name: Company, Length: 731, dtype: object"
      ]
     },
     "execution_count": 37,
     "metadata": {},
     "output_type": "execute_result"
    }
   ],
   "source": [
    "df3['Company'] = df3.apply( lambda x : x['Company Name'][:-4] , axis=1)\n",
    "df3.Company"
   ]
  },
  {
   "cell_type": "code",
   "execution_count": 38,
   "id": "f3a34d71-c8aa-4032-813c-1063b2cc2eb0",
   "metadata": {},
   "outputs": [
    {
     "data": {
      "text/plain": [
       "Index(['Salary Estimate', 'Job Description', 'Rating', 'Company Name',\n",
       "       'Location', 'Headquarters', 'Size', 'Founded', 'Type of ownership',\n",
       "       'Industry', 'Sector', 'Revenue', 'Competitors', 'Job Title',\n",
       "       'avg_salary', 'Company'],\n",
       "      dtype='object')"
      ]
     },
     "execution_count": 38,
     "metadata": {},
     "output_type": "execute_result"
    }
   ],
   "source": [
    "#Location\n",
    "df3.columns"
   ]
  },
  {
   "cell_type": "code",
   "execution_count": 39,
   "id": "6842cb42-ef4f-43f2-95fa-ee1dcf848b9a",
   "metadata": {},
   "outputs": [
    {
     "data": {
      "text/html": [
       "<div>\n",
       "<style scoped>\n",
       "    .dataframe tbody tr th:only-of-type {\n",
       "        vertical-align: middle;\n",
       "    }\n",
       "\n",
       "    .dataframe tbody tr th {\n",
       "        vertical-align: top;\n",
       "    }\n",
       "\n",
       "    .dataframe thead th {\n",
       "        text-align: right;\n",
       "    }\n",
       "</style>\n",
       "<table border=\"1\" class=\"dataframe\">\n",
       "  <thead>\n",
       "    <tr style=\"text-align: right;\">\n",
       "      <th></th>\n",
       "      <th>Salary Estimate</th>\n",
       "      <th>Job Description</th>\n",
       "      <th>Rating</th>\n",
       "      <th>Company Name</th>\n",
       "      <th>Location</th>\n",
       "      <th>Headquarters</th>\n",
       "      <th>Size</th>\n",
       "      <th>Founded</th>\n",
       "      <th>Type of ownership</th>\n",
       "      <th>Industry</th>\n",
       "      <th>Sector</th>\n",
       "      <th>Revenue</th>\n",
       "      <th>Competitors</th>\n",
       "      <th>Job Title</th>\n",
       "      <th>avg_salary</th>\n",
       "      <th>Company</th>\n",
       "    </tr>\n",
       "  </thead>\n",
       "  <tbody>\n",
       "    <tr>\n",
       "      <th>358</th>\n",
       "      <td>$105K-$173K (Glassdoor est.)</td>\n",
       "      <td>About Swiss Re\\n\\nThe Swiss Re Group is one of...</td>\n",
       "      <td>3.7</td>\n",
       "      <td>Swiss Re\\n3.7</td>\n",
       "      <td>Armonk, NY</td>\n",
       "      <td>Zurich, Switzerland</td>\n",
       "      <td>10000+ employees</td>\n",
       "      <td>1863</td>\n",
       "      <td>Company - Public</td>\n",
       "      <td>Insurance Agencies &amp; Brokerages</td>\n",
       "      <td>Insurance</td>\n",
       "      <td>$10+ billion (USD)</td>\n",
       "      <td>Munich Re, Hannover RE, SCOR</td>\n",
       "      <td>Data Scientist</td>\n",
       "      <td>139.0</td>\n",
       "      <td>Swiss Re</td>\n",
       "    </tr>\n",
       "    <tr>\n",
       "      <th>487</th>\n",
       "      <td>$78K-$147K (Glassdoor est.)</td>\n",
       "      <td>The Genesys Cloud Analytics platform is the fo...</td>\n",
       "      <td>4.3</td>\n",
       "      <td>Genesys\\n4.3</td>\n",
       "      <td>Durham, NC</td>\n",
       "      <td>Daly City, CA</td>\n",
       "      <td>5001 to 10000 employees</td>\n",
       "      <td>1990</td>\n",
       "      <td>Company - Private</td>\n",
       "      <td>Computer Hardware &amp; Software</td>\n",
       "      <td>Information Technology</td>\n",
       "      <td>$1 to $2 billion (USD)</td>\n",
       "      <td>Avaya, Five9, Salesforce</td>\n",
       "      <td>Data Engineer</td>\n",
       "      <td>112.5</td>\n",
       "      <td>Genesys</td>\n",
       "    </tr>\n",
       "    <tr>\n",
       "      <th>589</th>\n",
       "      <td>$75K-$126K (Glassdoor est.)</td>\n",
       "      <td>PeoplesBank is the largest mutually chartered ...</td>\n",
       "      <td>4.2</td>\n",
       "      <td>PeoplesBank\\n4.2</td>\n",
       "      <td>Holyoke, MA</td>\n",
       "      <td>Holyoke, MA</td>\n",
       "      <td>201 to 500 employees</td>\n",
       "      <td>1885</td>\n",
       "      <td>Company - Private</td>\n",
       "      <td>Banks &amp; Credit Unions</td>\n",
       "      <td>Finance</td>\n",
       "      <td>$50 to $100 million (USD)</td>\n",
       "      <td>-1</td>\n",
       "      <td>Data Scientist</td>\n",
       "      <td>100.5</td>\n",
       "      <td>PeoplesBank</td>\n",
       "    </tr>\n",
       "  </tbody>\n",
       "</table>\n",
       "</div>"
      ],
      "text/plain": [
       "                  Salary Estimate  \\\n",
       "358  $105K-$173K (Glassdoor est.)   \n",
       "487   $78K-$147K (Glassdoor est.)   \n",
       "589   $75K-$126K (Glassdoor est.)   \n",
       "\n",
       "                                       Job Description  Rating  \\\n",
       "358  About Swiss Re\\n\\nThe Swiss Re Group is one of...     3.7   \n",
       "487  The Genesys Cloud Analytics platform is the fo...     4.3   \n",
       "589  PeoplesBank is the largest mutually chartered ...     4.2   \n",
       "\n",
       "         Company Name     Location         Headquarters  \\\n",
       "358     Swiss Re\\n3.7   Armonk, NY  Zurich, Switzerland   \n",
       "487      Genesys\\n4.3   Durham, NC        Daly City, CA   \n",
       "589  PeoplesBank\\n4.2  Holyoke, MA          Holyoke, MA   \n",
       "\n",
       "                        Size  Founded  Type of ownership  \\\n",
       "358         10000+ employees     1863   Company - Public   \n",
       "487  5001 to 10000 employees     1990  Company - Private   \n",
       "589     201 to 500 employees     1885  Company - Private   \n",
       "\n",
       "                            Industry                  Sector  \\\n",
       "358  Insurance Agencies & Brokerages               Insurance   \n",
       "487     Computer Hardware & Software  Information Technology   \n",
       "589            Banks & Credit Unions                 Finance   \n",
       "\n",
       "                       Revenue                   Competitors       Job Title  \\\n",
       "358         $10+ billion (USD)  Munich Re, Hannover RE, SCOR  Data Scientist   \n",
       "487     $1 to $2 billion (USD)      Avaya, Five9, Salesforce   Data Engineer   \n",
       "589  $50 to $100 million (USD)                            -1  Data Scientist   \n",
       "\n",
       "     avg_salary      Company  \n",
       "358       139.0     Swiss Re  \n",
       "487       112.5      Genesys  \n",
       "589       100.5  PeoplesBank  "
      ]
     },
     "execution_count": 39,
     "metadata": {},
     "output_type": "execute_result"
    }
   ],
   "source": [
    "df4 = df3.copy()\n",
    "df4.sample(3)"
   ]
  },
  {
   "cell_type": "code",
   "execution_count": 40,
   "id": "31987cfa-3fd2-49a5-9082-4a985a937444",
   "metadata": {},
   "outputs": [
    {
     "data": {
      "text/html": [
       "<div>\n",
       "<style scoped>\n",
       "    .dataframe tbody tr th:only-of-type {\n",
       "        vertical-align: middle;\n",
       "    }\n",
       "\n",
       "    .dataframe tbody tr th {\n",
       "        vertical-align: top;\n",
       "    }\n",
       "\n",
       "    .dataframe thead th {\n",
       "        text-align: right;\n",
       "    }\n",
       "</style>\n",
       "<table border=\"1\" class=\"dataframe\">\n",
       "  <thead>\n",
       "    <tr style=\"text-align: right;\">\n",
       "      <th></th>\n",
       "      <th>Salary Estimate</th>\n",
       "      <th>Job Description</th>\n",
       "      <th>Rating</th>\n",
       "      <th>Company Name</th>\n",
       "      <th>Location</th>\n",
       "      <th>Headquarters</th>\n",
       "      <th>Size</th>\n",
       "      <th>Founded</th>\n",
       "      <th>Type of ownership</th>\n",
       "      <th>Industry</th>\n",
       "      <th>Sector</th>\n",
       "      <th>Revenue</th>\n",
       "      <th>Competitors</th>\n",
       "      <th>Job Title</th>\n",
       "      <th>avg_salary</th>\n",
       "      <th>Company</th>\n",
       "    </tr>\n",
       "  </thead>\n",
       "  <tbody>\n",
       "    <tr>\n",
       "      <th>705</th>\n",
       "      <td>$86K-$137K (Glassdoor est.)</td>\n",
       "      <td>IQVIA is the leading human data science compan...</td>\n",
       "      <td>3.6</td>\n",
       "      <td>IQVIA\\n3.6</td>\n",
       "      <td>PA</td>\n",
       "      <td>NC</td>\n",
       "      <td>10000+ employees</td>\n",
       "      <td>2017</td>\n",
       "      <td>Company - Public</td>\n",
       "      <td>Biotech &amp; Pharmaceuticals</td>\n",
       "      <td>Biotech &amp; Pharmaceuticals</td>\n",
       "      <td>$2 to $5 billion (USD)</td>\n",
       "      <td>PPD, INC Research, PRA Health Sciences</td>\n",
       "      <td>Data Analyst</td>\n",
       "      <td>111.5</td>\n",
       "      <td>IQVIA</td>\n",
       "    </tr>\n",
       "    <tr>\n",
       "      <th>930</th>\n",
       "      <td>$87K-$158K (Glassdoor est.)</td>\n",
       "      <td>Join our team of Data Consultants and work on ...</td>\n",
       "      <td>4.5</td>\n",
       "      <td>Moser Consulting\\n4.5</td>\n",
       "      <td>IN</td>\n",
       "      <td>IN</td>\n",
       "      <td>51 to 200 employees</td>\n",
       "      <td>1996</td>\n",
       "      <td>Company - Private</td>\n",
       "      <td>Consulting</td>\n",
       "      <td>Business Services</td>\n",
       "      <td>$25 to $50 million (USD)</td>\n",
       "      <td>-1</td>\n",
       "      <td>Data Engineer</td>\n",
       "      <td>122.5</td>\n",
       "      <td>Moser Consulting</td>\n",
       "    </tr>\n",
       "    <tr>\n",
       "      <th>470</th>\n",
       "      <td>$50K-$110K (Glassdoor est.)</td>\n",
       "      <td>Q2 Solutions is a leading clinical trial labor...</td>\n",
       "      <td>2.9</td>\n",
       "      <td>Q2 Solutions\\n2.9</td>\n",
       "      <td>GA</td>\n",
       "      <td>NC</td>\n",
       "      <td>1001 to 5000 employees</td>\n",
       "      <td>2015</td>\n",
       "      <td>Company - Private</td>\n",
       "      <td>Biotech &amp; Pharmaceuticals</td>\n",
       "      <td>Biotech &amp; Pharmaceuticals</td>\n",
       "      <td>Unknown / Non-Applicable</td>\n",
       "      <td>-1</td>\n",
       "      <td>Data Scientist</td>\n",
       "      <td>80.0</td>\n",
       "      <td>Q2 Solutions</td>\n",
       "    </tr>\n",
       "  </tbody>\n",
       "</table>\n",
       "</div>"
      ],
      "text/plain": [
       "                 Salary Estimate  \\\n",
       "705  $86K-$137K (Glassdoor est.)   \n",
       "930  $87K-$158K (Glassdoor est.)   \n",
       "470  $50K-$110K (Glassdoor est.)   \n",
       "\n",
       "                                       Job Description  Rating  \\\n",
       "705  IQVIA is the leading human data science compan...     3.6   \n",
       "930  Join our team of Data Consultants and work on ...     4.5   \n",
       "470  Q2 Solutions is a leading clinical trial labor...     2.9   \n",
       "\n",
       "              Company Name Location Headquarters                    Size  \\\n",
       "705             IQVIA\\n3.6       PA           NC        10000+ employees   \n",
       "930  Moser Consulting\\n4.5       IN           IN     51 to 200 employees   \n",
       "470      Q2 Solutions\\n2.9       GA           NC  1001 to 5000 employees   \n",
       "\n",
       "     Founded  Type of ownership                   Industry  \\\n",
       "705     2017   Company - Public  Biotech & Pharmaceuticals   \n",
       "930     1996  Company - Private                 Consulting   \n",
       "470     2015  Company - Private  Biotech & Pharmaceuticals   \n",
       "\n",
       "                        Sector                   Revenue  \\\n",
       "705  Biotech & Pharmaceuticals    $2 to $5 billion (USD)   \n",
       "930          Business Services  $25 to $50 million (USD)   \n",
       "470  Biotech & Pharmaceuticals  Unknown / Non-Applicable   \n",
       "\n",
       "                                Competitors       Job Title  avg_salary  \\\n",
       "705  PPD, INC Research, PRA Health Sciences    Data Analyst       111.5   \n",
       "930                                      -1   Data Engineer       122.5   \n",
       "470                                      -1  Data Scientist        80.0   \n",
       "\n",
       "              Company  \n",
       "705             IQVIA  \n",
       "930  Moser Consulting  \n",
       "470      Q2 Solutions  "
      ]
     },
     "execution_count": 40,
     "metadata": {},
     "output_type": "execute_result"
    }
   ],
   "source": [
    "df4.Location = df4.Location.apply(lambda x: x.split(',')[-1])\n",
    "df4.Headquarters = df4.Headquarters.apply(lambda x: x.split(',')[-1])\n",
    "df4.sample(3)"
   ]
  },
  {
   "cell_type": "code",
   "execution_count": 41,
   "id": "88697845-4244-404b-8938-78afb0ae3ecf",
   "metadata": {},
   "outputs": [
    {
     "data": {
      "text/plain": [
       " CA    149\n",
       " MA     96\n",
       " NY     71\n",
       " VA     41\n",
       " IL     40\n",
       " MD     35\n",
       " PA     33\n",
       " TX     28\n",
       " NC     21\n",
       " WA     21\n",
       " NJ     17\n",
       " FL     16\n",
       " OH     14\n",
       " TN     13\n",
       " DC     11\n",
       " CO     11\n",
       " WI     10\n",
       " UT     10\n",
       " IN     10\n",
       " AZ      9\n",
       " MO      9\n",
       " AL      8\n",
       " GA      6\n",
       " DE      6\n",
       " KY      6\n",
       " MI      6\n",
       " CT      5\n",
       " IA      5\n",
       " LA      4\n",
       " OR      4\n",
       " NE      4\n",
       " NM      3\n",
       " KS      3\n",
       " ID      2\n",
       " MN      2\n",
       " RI      1\n",
       " SC      1\n",
       "Name: Location, dtype: int64"
      ]
     },
     "execution_count": 41,
     "metadata": {},
     "output_type": "execute_result"
    }
   ],
   "source": [
    "df4.Location.value_counts()"
   ]
  },
  {
   "cell_type": "code",
   "execution_count": 42,
   "id": "51c2b118-a303-4cd2-a3ae-ea1a71fcbd85",
   "metadata": {},
   "outputs": [
    {
     "data": {
      "text/plain": [
       "(-1       41\n",
       "  2010    32\n",
       "  2008    31\n",
       "  1996    27\n",
       "  2006    24\n",
       "          ..\n",
       "  1860     1\n",
       "  1942     1\n",
       "  1878     1\n",
       "  1971     1\n",
       "  1889     1\n",
       " Name: Founded, Length: 102, dtype: int64,\n",
       " (731, 16))"
      ]
     },
     "execution_count": 42,
     "metadata": {},
     "output_type": "execute_result"
    }
   ],
   "source": [
    "df4.Founded.value_counts(), df4.shape"
   ]
  },
  {
   "cell_type": "code",
   "execution_count": 43,
   "id": "64aeec53-4d4d-419e-a5b7-3c0e48650696",
   "metadata": {},
   "outputs": [],
   "source": [
    "df5 = df4[df4.Founded != -1] # dropping all the rows with founded equals -1"
   ]
  },
  {
   "cell_type": "code",
   "execution_count": 44,
   "id": "fb1b6376-0e3b-44cf-ac55-9c779991d572",
   "metadata": {},
   "outputs": [
    {
     "name": "stderr",
     "output_type": "stream",
     "text": [
      "C:\\Users\\Bharath\\AppData\\Local\\Temp/ipykernel_6736/3761146944.py:2: SettingWithCopyWarning: \n",
      "A value is trying to be set on a copy of a slice from a DataFrame.\n",
      "Try using .loc[row_indexer,col_indexer] = value instead\n",
      "\n",
      "See the caveats in the documentation: https://pandas.pydata.org/pandas-docs/stable/user_guide/indexing.html#returning-a-view-versus-a-copy\n",
      "  df5['Age'] = df4.Founded.apply( lambda x: (curr_year-x) if x>0 else 0)\n"
     ]
    },
    {
     "data": {
      "text/html": [
       "<div>\n",
       "<style scoped>\n",
       "    .dataframe tbody tr th:only-of-type {\n",
       "        vertical-align: middle;\n",
       "    }\n",
       "\n",
       "    .dataframe tbody tr th {\n",
       "        vertical-align: top;\n",
       "    }\n",
       "\n",
       "    .dataframe thead th {\n",
       "        text-align: right;\n",
       "    }\n",
       "</style>\n",
       "<table border=\"1\" class=\"dataframe\">\n",
       "  <thead>\n",
       "    <tr style=\"text-align: right;\">\n",
       "      <th></th>\n",
       "      <th>Salary Estimate</th>\n",
       "      <th>Job Description</th>\n",
       "      <th>Rating</th>\n",
       "      <th>Company Name</th>\n",
       "      <th>Location</th>\n",
       "      <th>Headquarters</th>\n",
       "      <th>Size</th>\n",
       "      <th>Founded</th>\n",
       "      <th>Type of ownership</th>\n",
       "      <th>Industry</th>\n",
       "      <th>Sector</th>\n",
       "      <th>Revenue</th>\n",
       "      <th>Competitors</th>\n",
       "      <th>Job Title</th>\n",
       "      <th>avg_salary</th>\n",
       "      <th>Company</th>\n",
       "      <th>Age</th>\n",
       "    </tr>\n",
       "  </thead>\n",
       "  <tbody>\n",
       "    <tr>\n",
       "      <th>682</th>\n",
       "      <td>$21-$34 Per Hour(Glassdoor est.)</td>\n",
       "      <td>Day Shift: 7A-330P. Holidays and every other w...</td>\n",
       "      <td>3.6</td>\n",
       "      <td>Beebe Healthcare\\n3.6</td>\n",
       "      <td>DE</td>\n",
       "      <td>DE</td>\n",
       "      <td>1001 to 5000 employees</td>\n",
       "      <td>1935</td>\n",
       "      <td>Nonprofit Organization</td>\n",
       "      <td>Health Care Services &amp; Hospitals</td>\n",
       "      <td>Health Care</td>\n",
       "      <td>$100 to $500 million (USD)</td>\n",
       "      <td>-1</td>\n",
       "      <td>Data Scientist</td>\n",
       "      <td>NaN</td>\n",
       "      <td>Beebe Healthcare</td>\n",
       "      <td>87</td>\n",
       "    </tr>\n",
       "    <tr>\n",
       "      <th>496</th>\n",
       "      <td>$40K-$101K (Glassdoor est.)</td>\n",
       "      <td>At VU, we help Veterans buy homes. To make tha...</td>\n",
       "      <td>4.7</td>\n",
       "      <td>Veterans United Home Loans\\n4.7</td>\n",
       "      <td>MO</td>\n",
       "      <td>MO</td>\n",
       "      <td>1001 to 5000 employees</td>\n",
       "      <td>2002</td>\n",
       "      <td>Company - Private</td>\n",
       "      <td>Lending</td>\n",
       "      <td>Finance</td>\n",
       "      <td>Unknown / Non-Applicable</td>\n",
       "      <td>-1</td>\n",
       "      <td>Others</td>\n",
       "      <td>70.5</td>\n",
       "      <td>Veterans United Home Loans</td>\n",
       "      <td>20</td>\n",
       "    </tr>\n",
       "    <tr>\n",
       "      <th>62</th>\n",
       "      <td>$54K-$93K (Glassdoor est.)</td>\n",
       "      <td>Job Description\\n\\n**Please only local candida...</td>\n",
       "      <td>4.1</td>\n",
       "      <td>ClearOne Advantage\\n4.1</td>\n",
       "      <td>MD</td>\n",
       "      <td>MD</td>\n",
       "      <td>501 to 1000 employees</td>\n",
       "      <td>2008</td>\n",
       "      <td>Company - Private</td>\n",
       "      <td>Banks &amp; Credit Unions</td>\n",
       "      <td>Finance</td>\n",
       "      <td>Unknown / Non-Applicable</td>\n",
       "      <td>-1</td>\n",
       "      <td>Data Scientist</td>\n",
       "      <td>73.5</td>\n",
       "      <td>ClearOne Advantage</td>\n",
       "      <td>14</td>\n",
       "    </tr>\n",
       "  </tbody>\n",
       "</table>\n",
       "</div>"
      ],
      "text/plain": [
       "                      Salary Estimate  \\\n",
       "682  $21-$34 Per Hour(Glassdoor est.)   \n",
       "496       $40K-$101K (Glassdoor est.)   \n",
       "62         $54K-$93K (Glassdoor est.)   \n",
       "\n",
       "                                       Job Description  Rating  \\\n",
       "682  Day Shift: 7A-330P. Holidays and every other w...     3.6   \n",
       "496  At VU, we help Veterans buy homes. To make tha...     4.7   \n",
       "62   Job Description\\n\\n**Please only local candida...     4.1   \n",
       "\n",
       "                        Company Name Location Headquarters  \\\n",
       "682            Beebe Healthcare\\n3.6       DE           DE   \n",
       "496  Veterans United Home Loans\\n4.7       MO           MO   \n",
       "62           ClearOne Advantage\\n4.1       MD           MD   \n",
       "\n",
       "                       Size  Founded       Type of ownership  \\\n",
       "682  1001 to 5000 employees     1935  Nonprofit Organization   \n",
       "496  1001 to 5000 employees     2002       Company - Private   \n",
       "62    501 to 1000 employees     2008       Company - Private   \n",
       "\n",
       "                             Industry       Sector  \\\n",
       "682  Health Care Services & Hospitals  Health Care   \n",
       "496                           Lending      Finance   \n",
       "62              Banks & Credit Unions      Finance   \n",
       "\n",
       "                        Revenue Competitors       Job Title  avg_salary  \\\n",
       "682  $100 to $500 million (USD)          -1  Data Scientist         NaN   \n",
       "496    Unknown / Non-Applicable          -1          Others        70.5   \n",
       "62     Unknown / Non-Applicable          -1  Data Scientist        73.5   \n",
       "\n",
       "                        Company  Age  \n",
       "682            Beebe Healthcare   87  \n",
       "496  Veterans United Home Loans   20  \n",
       "62           ClearOne Advantage   14  "
      ]
     },
     "execution_count": 44,
     "metadata": {},
     "output_type": "execute_result"
    }
   ],
   "source": [
    "curr_year = 2022\n",
    "df5['Age'] = df4.Founded.apply( lambda x: (curr_year-x) if x>0 else 0) \n",
    "df5.sample(3)"
   ]
  },
  {
   "cell_type": "code",
   "execution_count": 45,
   "id": "9f7d3594-cc90-4f5c-afc3-92a7b180d31c",
   "metadata": {
    "slideshow": {
     "slide_type": "slide"
    },
    "tags": []
   },
   "outputs": [
    {
     "data": {
      "text/html": [
       "<div>\n",
       "<style scoped>\n",
       "    .dataframe tbody tr th:only-of-type {\n",
       "        vertical-align: middle;\n",
       "    }\n",
       "\n",
       "    .dataframe tbody tr th {\n",
       "        vertical-align: top;\n",
       "    }\n",
       "\n",
       "    .dataframe thead th {\n",
       "        text-align: right;\n",
       "    }\n",
       "</style>\n",
       "<table border=\"1\" class=\"dataframe\">\n",
       "  <thead>\n",
       "    <tr style=\"text-align: right;\">\n",
       "      <th></th>\n",
       "      <th>Rating</th>\n",
       "      <th>Founded</th>\n",
       "      <th>avg_salary</th>\n",
       "      <th>Age</th>\n",
       "    </tr>\n",
       "  </thead>\n",
       "  <tbody>\n",
       "    <tr>\n",
       "      <th>count</th>\n",
       "      <td>690.000000</td>\n",
       "      <td>690.000000</td>\n",
       "      <td>666.000000</td>\n",
       "      <td>690.000000</td>\n",
       "    </tr>\n",
       "    <tr>\n",
       "      <th>mean</th>\n",
       "      <td>3.703188</td>\n",
       "      <td>1969.833333</td>\n",
       "      <td>102.839339</td>\n",
       "      <td>52.166667</td>\n",
       "    </tr>\n",
       "    <tr>\n",
       "      <th>std</th>\n",
       "      <td>0.554377</td>\n",
       "      <td>54.108742</td>\n",
       "      <td>36.898159</td>\n",
       "      <td>54.108742</td>\n",
       "    </tr>\n",
       "    <tr>\n",
       "      <th>min</th>\n",
       "      <td>1.900000</td>\n",
       "      <td>1744.000000</td>\n",
       "      <td>15.500000</td>\n",
       "      <td>3.000000</td>\n",
       "    </tr>\n",
       "    <tr>\n",
       "      <th>25%</th>\n",
       "      <td>3.400000</td>\n",
       "      <td>1958.000000</td>\n",
       "      <td>76.125000</td>\n",
       "      <td>15.000000</td>\n",
       "    </tr>\n",
       "    <tr>\n",
       "      <th>50%</th>\n",
       "      <td>3.700000</td>\n",
       "      <td>1992.000000</td>\n",
       "      <td>98.000000</td>\n",
       "      <td>30.000000</td>\n",
       "    </tr>\n",
       "    <tr>\n",
       "      <th>75%</th>\n",
       "      <td>4.000000</td>\n",
       "      <td>2007.000000</td>\n",
       "      <td>124.000000</td>\n",
       "      <td>64.000000</td>\n",
       "    </tr>\n",
       "    <tr>\n",
       "      <th>max</th>\n",
       "      <td>5.000000</td>\n",
       "      <td>2019.000000</td>\n",
       "      <td>254.000000</td>\n",
       "      <td>278.000000</td>\n",
       "    </tr>\n",
       "  </tbody>\n",
       "</table>\n",
       "</div>"
      ],
      "text/plain": [
       "           Rating      Founded  avg_salary         Age\n",
       "count  690.000000   690.000000  666.000000  690.000000\n",
       "mean     3.703188  1969.833333  102.839339   52.166667\n",
       "std      0.554377    54.108742   36.898159   54.108742\n",
       "min      1.900000  1744.000000   15.500000    3.000000\n",
       "25%      3.400000  1958.000000   76.125000   15.000000\n",
       "50%      3.700000  1992.000000   98.000000   30.000000\n",
       "75%      4.000000  2007.000000  124.000000   64.000000\n",
       "max      5.000000  2019.000000  254.000000  278.000000"
      ]
     },
     "execution_count": 45,
     "metadata": {},
     "output_type": "execute_result"
    }
   ],
   "source": [
    "df5.describe()"
   ]
  },
  {
   "cell_type": "code",
   "execution_count": 46,
   "id": "c15f0ada-22de-4cd8-ab3d-95e7b606a148",
   "metadata": {},
   "outputs": [],
   "source": [
    "# now we have our required columns\n",
    "#lets save the file.\n",
    "\n",
    "df5.to_csv('cleaned_data.csv', index=False)"
   ]
  },
  {
   "cell_type": "code",
   "execution_count": null,
   "id": "a4d81db9-9540-46c8-b763-d92fd433dcee",
   "metadata": {},
   "outputs": [],
   "source": []
  }
 ],
 "metadata": {
  "kernelspec": {
   "display_name": "Python 3 (ipykernel)",
   "language": "python",
   "name": "python3"
  },
  "language_info": {
   "codemirror_mode": {
    "name": "ipython",
    "version": 3
   },
   "file_extension": ".py",
   "mimetype": "text/x-python",
   "name": "python",
   "nbconvert_exporter": "python",
   "pygments_lexer": "ipython3",
   "version": "3.9.7"
  }
 },
 "nbformat": 4,
 "nbformat_minor": 5
}
